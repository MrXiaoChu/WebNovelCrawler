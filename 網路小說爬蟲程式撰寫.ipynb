{
 "cells": [
  {
   "cell_type": "code",
   "execution_count": null,
   "metadata": {},
   "outputs": [],
   "source": [
    "#-*- coding: UTF-8 -*-\n",
    "import urllib\n",
    "import pprint\n",
    "import time\n",
    "import json\n",
    "from urllib.error import HTTPError\n",
    "from bs4 import BeautifulSoup"
   ]
  },
  {
   "cell_type": "code",
   "execution_count": null,
   "metadata": {
    "scrolled": false
   },
   "outputs": [],
   "source": [
    "#網頁的編碼是GBK(中國區域編碼)\n",
    "library_dictionary = dict()\n",
    "book_dictionary = dict()\n",
    "chapter_list = list()\n",
    "\n",
    "for page in range(0,50):\n",
    "    for sub_page in range(0,50):\n",
    "        novel_URL = \"https://www.wenku8.net/novel/\" +  str(page) + \"/\" + str(sub_page) + \"/index.htm\"\n",
    "        try:\n",
    "            response = urllib.request.urlopen(novel_URL)\n",
    "            html = response.read()\n",
    "            soup = BeautifulSoup(html, \"html5lib\")\n",
    "            print(\"網址為 {0}\".format(novel_URL))\n",
    "            print(\"現在的目錄為 {0} 子目錄為 {1}\".format(page, sub_page))\n",
    "            print(\"===\" * 10)\n",
    "            table = soup.find_all(\"td\")\n",
    "            for tr in table:              \n",
    "                print(soup.find(id = \"title\").get_text())\n",
    "                print(\"    {0}\".format(soup.find(id = \"info\").get_text().replace(\"作者：\", \"\")))\n",
    "                library_dictionary[\"書本名稱\"]  = str(soup.find(id = \"title\").get_text())\n",
    "                author_temp = str(soup.find(id = \"info\").get_text()).replace(\"作者：\", \"\")\n",
    "                library_dictionary[\"作者名稱\"]  = str(soup.find(id = \"info\").get_text())\n",
    "                for td in table:\n",
    "                    print(\"        {0}\".format(td.get_text()))\n",
    "                    \n",
    "                    if \"vcss\" in str(td):\n",
    "                        temp = str(td.get_text())\n",
    "                        book_dictionary[\"卷數\"] = temp\n",
    "                        book_dictionary[temp] = chapter_list\n",
    "                        \n",
    "                    \n",
    "                    if \"ccss\" in str(td):\n",
    "                        chapter_list.append(str(td.get_text()))\n",
    "                        \n",
    "                    #chapter_list = list()\n",
    "                    library_dictionary[\"書庫\"] = book_dictionary\n",
    "                break\n",
    "            book_dictionary = dict()\n",
    "            #break\n",
    "            #要修的Bug網址從0/0、0/1、0/2⋯⋯，但是如果在0/2找到小說了，不會繼續找0/3，而是找1/0\n",
    "            \n",
    "            print(\"暫停1秒鐘\")\n",
    "            time.sleep(1)\n",
    "        except HTTPError:\n",
    "            print(\"網址 {0} 沒有小說\".format(novel_URL))\n",
    "            print(\"暫停1秒鐘\")\n",
    "            time.sleep(1)\n",
    "            continue"
   ]
  },
  {
   "cell_type": "code",
   "execution_count": null,
   "metadata": {
    "scrolled": false
   },
   "outputs": [],
   "source": [
    "library_dictionary"
   ]
  },
  {
   "cell_type": "code",
   "execution_count": null,
   "metadata": {},
   "outputs": [],
   "source": [
    "with open('01.json', 'w', encoding='utf-8') as fp:\n",
    "    json.dump(library_dictionary, fp, ensure_ascii = False, indent=4)"
   ]
  },
  {
   "cell_type": "code",
   "execution_count": null,
   "metadata": {},
   "outputs": [],
   "source": []
  },
  {
   "cell_type": "code",
   "execution_count": null,
   "metadata": {},
   "outputs": [],
   "source": []
  },
  {
   "cell_type": "code",
   "execution_count": null,
   "metadata": {},
   "outputs": [],
   "source": []
  },
  {
   "cell_type": "code",
   "execution_count": null,
   "metadata": {},
   "outputs": [],
   "source": []
  }
 ],
 "metadata": {
  "celltoolbar": "Raw Cell Format",
  "kernelspec": {
   "display_name": "Python 3",
   "language": "python",
   "name": "python3"
  },
  "language_info": {
   "codemirror_mode": {
    "name": "ipython",
    "version": 3
   },
   "file_extension": ".py",
   "mimetype": "text/x-python",
   "name": "python",
   "nbconvert_exporter": "python",
   "pygments_lexer": "ipython3",
   "version": "3.7.4"
  }
 },
 "nbformat": 4,
 "nbformat_minor": 1
}
