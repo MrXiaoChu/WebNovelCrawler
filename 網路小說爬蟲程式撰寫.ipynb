{
 "cells": [
  {
   "cell_type": "code",
   "execution_count": null,
   "metadata": {},
   "outputs": [],
   "source": [
    "#-*- coding: UTF-8 -*-\n",
    "from bs4 import BeautifulSoup\n",
    "from urllib.error import HTTPError\n",
    "from collections import OrderedDict\n",
    "import json\n",
    "import pprint\n",
    "import time\n",
    "import urllib"
   ]
  },
  {
   "cell_type": "code",
   "execution_count": null,
   "metadata": {
    "scrolled": false
   },
   "outputs": [],
   "source": [
    "#網頁的編碼是GBK(中國區域編碼)\n",
    "full_dictionary = OrderedDict()\n",
    "library_dictionary = OrderedDict()\n",
    "author_dictionary =  OrderedDict()\n",
    "book_dictionary = OrderedDict()\n",
    "full_list = list()\n",
    "chapter_list = list()\n",
    "key_list = list()\n",
    "\n",
    "for page in range(0,50):\n",
    "    for sub_page in range(0,50):\n",
    "        library_dictionary = OrderedDict()\n",
    "        novel_URL = \"https://www.wenku8.net/novel/\" +  str(page) + \"/\" + str(sub_page) + \"/index.htm\"\n",
    "        try:\n",
    "            response = urllib.request.urlopen(novel_URL)\n",
    "            html = response.read()\n",
    "            soup = BeautifulSoup(html, \"html5lib\")\n",
    "            print(\"網址為 {0}\".format(novel_URL))\n",
    "            print(\"現在的目錄為 {0} 子目錄為 {1}\".format(page, sub_page))\n",
    "            print(\"===\" * 10)\n",
    "            table = soup.find_all(\"td\")\n",
    "            print(soup.find(id = \"title\").get_text())\n",
    "            print(\"    {0}\".format(soup.find(id = \"info\").get_text().replace(\"作者：\", \"\")))\n",
    "            for td in table:\n",
    "                for td_child in table:\n",
    "                    if \"vcss\" in str(td_child):\n",
    "                        book_dictionary[str(td_child.get_text())] = chapter_list\n",
    "                        chapter_list = list()\n",
    "                key_list = list(book_dictionary.keys())\n",
    "                table = list(table)\n",
    "                book_name_list = list()\n",
    "                index = -1\n",
    "                for book_name in table:\n",
    "                    if \"vcss\" in str(book_name):\n",
    "                        index += 1\n",
    "                        book_name_list = list()\n",
    "                    else:\n",
    "                        if book_name.get_text() != \"\\xa0\":\n",
    "                            book_name_list.append(book_name.get_text())\n",
    "                            book_dictionary[key_list[index]] = book_name_list\n",
    "                author_temp = str(soup.find(id = \"info\").get_text()).replace(\"作者：\", \"\") #去除「作者：」(ok)\n",
    "                library_temp = soup.find(id = \"title\").get_text()\n",
    "                chapter_list = list()\n",
    "                break\n",
    "            author_dictionary[author_temp]  = book_dictionary\n",
    "            library_dictionary[library_temp] = author_dictionary\n",
    "            author_dictionary = OrderedDict()\n",
    "            book_dictionary = OrderedDict()\n",
    "            pprint.pprint(library_dictionary)\n",
    "            full_list.append(library_dictionary)\n",
    "            full_dictionary[\"書庫\"] = full_list\n",
    "            print(\"暫停1秒鐘\")\n",
    "            time.sleep(1)\n",
    "        except HTTPError:\n",
    "            print(\"網址 {0} 沒有小說\".format(novel_URL))\n",
    "            print(\"暫停1秒鐘\")\n",
    "            time.sleep(1)\n",
    "            continue"
   ]
  },
  {
   "cell_type": "code",
   "execution_count": null,
   "metadata": {
    "scrolled": false
   },
   "outputs": [],
   "source": [
    "pprint.pprint(full_dictionary)"
   ]
  },
  {
   "cell_type": "code",
   "execution_count": null,
   "metadata": {},
   "outputs": [],
   "source": [
    "book_dictionary"
   ]
  },
  {
   "cell_type": "code",
   "execution_count": null,
   "metadata": {},
   "outputs": [],
   "source": []
  },
  {
   "cell_type": "code",
   "execution_count": null,
   "metadata": {},
   "outputs": [],
   "source": [
    "with open('01.json', 'w', encoding='utf-8') as fp:\n",
    "    json.dump(library_dictionary, fp, ensure_ascii = False, indent=4)"
   ]
  },
  {
   "cell_type": "code",
   "execution_count": null,
   "metadata": {},
   "outputs": [],
   "source": []
  },
  {
   "cell_type": "code",
   "execution_count": null,
   "metadata": {},
   "outputs": [],
   "source": []
  },
  {
   "cell_type": "code",
   "execution_count": null,
   "metadata": {},
   "outputs": [],
   "source": []
  },
  {
   "cell_type": "code",
   "execution_count": null,
   "metadata": {},
   "outputs": [],
   "source": []
  }
 ],
 "metadata": {
  "celltoolbar": "Raw Cell Format",
  "kernelspec": {
   "display_name": "Python 3",
   "language": "python",
   "name": "python3"
  },
  "language_info": {
   "codemirror_mode": {
    "name": "ipython",
    "version": 3
   },
   "file_extension": ".py",
   "mimetype": "text/x-python",
   "name": "python",
   "nbconvert_exporter": "python",
   "pygments_lexer": "ipython3",
   "version": "3.7.4"
  }
 },
 "nbformat": 4,
 "nbformat_minor": 1
}
