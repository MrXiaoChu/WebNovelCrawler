{
 "cells": [
  {
   "cell_type": "code",
   "execution_count": 4,
   "metadata": {},
   "outputs": [],
   "source": [
    "#-*- coding: UTF-8 -*-\n",
    "import urllib\n",
    "import pprint\n",
    "import time\n",
    "from urllib.error import HTTPError\n",
    "from bs4 import BeautifulSoup"
   ]
  },
  {
   "cell_type": "code",
   "execution_count": 18,
   "metadata": {
    "scrolled": false
   },
   "outputs": [
    {
     "name": "stdout",
     "output_type": "stream",
     "text": [
      "網址 https://www.wenku8.net/novel/0/0/index.htm 沒有小說\n",
      "暫停1秒鐘\n",
      "網址為 https://www.wenku8.net/novel/0/1/index.htm\n",
      "現在的目錄為 0 子目錄為 1\n",
      "==============================\n",
      "<div id=\"title\">文学少女</div>\n",
      "<div id=\"info\">作者：野村美月</div>\n",
      "<td class=\"vcss\" colspan=\"4\">第一卷 渴望死亡的小丑</td>\n",
      "<td class=\"vcss\" colspan=\"4\">第二卷 渴求真爱的幽灵</td>\n",
      "<td class=\"vcss\" colspan=\"4\">第三卷 沉陷过往的愚者</td>\n",
      "<td class=\"vcss\" colspan=\"4\">第四卷 背负污名的天使</td>\n",
      "<td class=\"vcss\" colspan=\"4\">第五卷 悲怆恸哭的巡礼者</td>\n",
      "<td class=\"vcss\" colspan=\"4\">第六卷 孕育月花的水妖</td>\n",
      "<td class=\"vcss\" colspan=\"4\">第七卷 惠临神明的作家（上）</td>\n",
      "<td class=\"vcss\" colspan=\"4\">第八卷 惠临神明的作家（下）</td>\n",
      "<td class=\"vcss\" colspan=\"4\">番外篇 今天的点心</td>\n",
      "<td class=\"vcss\" colspan=\"4\">文学少女的秘密书架</td>\n",
      "<td class=\"vcss\" colspan=\"4\">外传一 见习生的初恋</td>\n",
      "<td class=\"vcss\" colspan=\"4\">“文学少女”登上石像怪与笨蛋的阶梯</td>\n",
      "<td class=\"vcss\" colspan=\"4\">恋爱插话集第一弹</td>\n",
      "<td class=\"vcss\" colspan=\"4\">恋爱插话集第二弹</td>\n",
      "<td class=\"vcss\" colspan=\"4\">外传二 见习生的伤心</td>\n",
      "<td class=\"vcss\" colspan=\"4\">恋爱插话集第三弹</td>\n",
      "<td class=\"vcss\" colspan=\"4\">外传三 见习生的毕业</td>\n",
      "<td class=\"vcss\" colspan=\"4\">恋爱插话集第四弹</td>\n",
      "<td class=\"vcss\" colspan=\"4\">青涩作家和文学少女编辑</td>\n",
      "<td class=\"vcss\" colspan=\"4\">短篇</td>\n",
      "暫停1秒鐘\n"
     ]
    },
    {
     "ename": "KeyboardInterrupt",
     "evalue": "",
     "output_type": "error",
     "traceback": [
      "\u001b[1;31m---------------------------------------------------------------------------\u001b[0m",
      "\u001b[1;31mKeyboardInterrupt\u001b[0m                         Traceback (most recent call last)",
      "\u001b[1;32m<ipython-input-18-6b09e869d74e>\u001b[0m in \u001b[0;36m<module>\u001b[1;34m\u001b[0m\n\u001b[0;32m     17\u001b[0m                 \u001b[0mprint\u001b[0m\u001b[1;33m(\u001b[0m\u001b[0mtable\u001b[0m\u001b[1;33m)\u001b[0m\u001b[1;33m\u001b[0m\u001b[1;33m\u001b[0m\u001b[0m\n\u001b[0;32m     18\u001b[0m             \u001b[0mprint\u001b[0m\u001b[1;33m(\u001b[0m\u001b[1;34m\"暫停1秒鐘\"\u001b[0m\u001b[1;33m)\u001b[0m\u001b[1;33m\u001b[0m\u001b[1;33m\u001b[0m\u001b[0m\n\u001b[1;32m---> 19\u001b[1;33m             \u001b[0mtime\u001b[0m\u001b[1;33m.\u001b[0m\u001b[0msleep\u001b[0m\u001b[1;33m(\u001b[0m\u001b[1;36m1\u001b[0m\u001b[1;33m)\u001b[0m\u001b[1;33m\u001b[0m\u001b[1;33m\u001b[0m\u001b[0m\n\u001b[0m\u001b[0;32m     20\u001b[0m         \u001b[1;32mexcept\u001b[0m \u001b[0mHTTPError\u001b[0m\u001b[1;33m:\u001b[0m\u001b[1;33m\u001b[0m\u001b[1;33m\u001b[0m\u001b[0m\n\u001b[0;32m     21\u001b[0m             \u001b[0mprint\u001b[0m\u001b[1;33m(\u001b[0m\u001b[1;34m\"網址 {0} 沒有小說\"\u001b[0m\u001b[1;33m.\u001b[0m\u001b[0mformat\u001b[0m\u001b[1;33m(\u001b[0m\u001b[0mnovel_URL\u001b[0m\u001b[1;33m)\u001b[0m\u001b[1;33m)\u001b[0m\u001b[1;33m\u001b[0m\u001b[1;33m\u001b[0m\u001b[0m\n",
      "\u001b[1;31mKeyboardInterrupt\u001b[0m: "
     ]
    }
   ],
   "source": [
    "#網頁的編碼是GBK(中國區域編碼)\n",
    "\n",
    "\n",
    "for page in range(0,10):\n",
    "    for sub_page in range(0,10):\n",
    "        novel_URL = \"https://www.wenku8.net/novel/\" +  str(page) + \"/\" + str(sub_page) + \"/index.htm\"\n",
    "        try:\n",
    "            response = urllib.request.urlopen(novel_URL)\n",
    "            html = response.read()\n",
    "            print(\"網址為 {0}\".format(novel_URL))\n",
    "            soup = BeautifulSoup(html, \"html5lib\")\n",
    "            print(\"現在的目錄為 {0} 子目錄為 {1}\".format(page, sub_page))\n",
    "            print(\"===\" * 10)\n",
    "            print(soup.find(id = \"title\"))\n",
    "            print(soup.find(id = \"info\"))\n",
    "            for table in soup.find_all(\"td\", {\"class\":\"vcss\"}):\n",
    "                print(table)\n",
    "            print(\"暫停1秒鐘\")\n",
    "            time.sleep(1)\n",
    "        except HTTPError:\n",
    "            print(\"網址 {0} 沒有小說\".format(novel_URL))\n",
    "            print(\"暫停1秒鐘\")\n",
    "            time.sleep(1)\n",
    "            continue"
   ]
  },
  {
   "cell_type": "code",
   "execution_count": null,
   "metadata": {},
   "outputs": [],
   "source": []
  },
  {
   "cell_type": "code",
   "execution_count": null,
   "metadata": {},
   "outputs": [],
   "source": []
  },
  {
   "cell_type": "code",
   "execution_count": null,
   "metadata": {},
   "outputs": [],
   "source": []
  },
  {
   "cell_type": "code",
   "execution_count": null,
   "metadata": {},
   "outputs": [],
   "source": []
  },
  {
   "cell_type": "code",
   "execution_count": null,
   "metadata": {},
   "outputs": [],
   "source": []
  },
  {
   "cell_type": "code",
   "execution_count": null,
   "metadata": {},
   "outputs": [],
   "source": []
  },
  {
   "cell_type": "code",
   "execution_count": null,
   "metadata": {},
   "outputs": [],
   "source": []
  }
 ],
 "metadata": {
  "kernelspec": {
   "display_name": "Python 3",
   "language": "python",
   "name": "python3"
  },
  "language_info": {
   "codemirror_mode": {
    "name": "ipython",
    "version": 3
   },
   "file_extension": ".py",
   "mimetype": "text/x-python",
   "name": "python",
   "nbconvert_exporter": "python",
   "pygments_lexer": "ipython3",
   "version": "3.7.4"
  }
 },
 "nbformat": 4,
 "nbformat_minor": 1
}
